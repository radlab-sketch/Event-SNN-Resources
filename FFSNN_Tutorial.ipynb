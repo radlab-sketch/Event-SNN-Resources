{
  "cells": [
    {
      "cell_type": "markdown",
      "metadata": {
        "id": "HzIQBw28NL8h"
      },
      "source": [
        "## Feedforward Spiking Neural Network"
      ]
    },
    {
      "cell_type": "markdown",
      "metadata": {},
      "source": [
        "This notebook demonstrates the implementation of a feedforward spiking neural network (SNN) using the SNN toolbox, `snntorch`. The network consists of fully connected layers with leaky integrate-and-fire (LIF) neurons."
      ]
    },
    {
      "cell_type": "code",
      "execution_count": null,
      "metadata": {
        "id": "SPQITvDuNNJg"
      },
      "outputs": [],
      "source": [
        "!pip install snntorch"
      ]
    },
    {
      "cell_type": "markdown",
      "metadata": {},
      "source": [
        "First, we need to install the `snntorch` library, which provides a variety of tools for building and training SNNs in PyTorch."
      ]
    },
    {
      "cell_type": "code",
      "execution_count": null,
      "metadata": {
        "id": "31NkMZnxBFZ4"
      },
      "outputs": [],
      "source": [
        "# Imports\n",
        "import snntorch as snn\n",
        "from snntorch import spikeplot as splt\n",
        "from snntorch import spikegen\n",
        "\n",
        "import torch\n",
        "import torch.nn as nn\n",
        "import matplotlib.pyplot as plt"
      ]
    },
    {
      "cell_type": "markdown",
      "metadata": {},
      "source": [
        "We start by importing the necessary libraries. `snntorch` is the main library for SNN operations, while `torch` and `torch.nn` are used for defining and managing the network architecture. `matplotlib.pyplot` is used for plotting the results."
      ]
    },
    {
      "cell_type": "code",
      "execution_count": null,
      "metadata": {
        "cellView": "form",
        "id": "2kBGXe5K_xWh"
      },
      "outputs": [],
      "source": [
        "# Plotting Settings\n",
        "def plot_cur_mem_spk(cur, mem, spk, thr_line=False, vline=False, title=False, ylim_max1=1.25, ylim_max2=1.25):\n",
        "  # Generate Plots\n",
        "  fig, ax = plt.subplots(3, figsize=(8,6), sharex=True,\n",
        "                        gridspec_kw = {'height_ratios': [1, 1, 0.4]})\n",
        "\n",
        "  # Plot input current\n",
        "  ax[0].plot(cur, c=\"tab:orange\")\n",
        "  ax[0].set_ylim([0, ylim_max1])\n",
        "  ax[0].set_xlim([0, 200])\n",
        "  ax[0].set_ylabel(\"Input Current ($I_{in}$)\")\n",
        "  if title:\n",
        "    ax[0].set_title(title)\n",
        "\n",
        "  # Plot membrane potential\n",
        "  ax[1].plot(mem)\n",
        "  ax[1].set_ylim([0, ylim_max2])\n",
        "  ax[1].set_ylabel(\"Membrane Potential ($U_{mem}$)\")\n",
        "  if thr_line:\n",
        "    ax[1].axhline(y=thr_line, alpha=0.25, linestyle=\"dashed\", c=\"black\", linewidth=2)\n",
        "  plt.xlabel(\"Time step\")\n",
        "\n",
        "  # Plot output spike using spikeplot\n",
        "  splt.raster(spk, ax[2], s=400, c=\"black\", marker=\"|\")\n",
        "  if vline:\n",
        "    ax[2].axvline(x=vline, ymin=0, ymax=6.75, alpha = 0.15, linestyle=\"dashed\", c=\"black\", linewidth=2, zorder=0, clip_on=False)\n",
        "  plt.ylabel(\"Output spikes\")\n",
        "  plt.yticks([])\n",
        "\n",
        "  plt.show()\n",
        "\n",
        "def plot_snn_spikes(spk_in, spk1_rec, spk2_rec, title):\n",
        "  # Generate Plots\n",
        "  fig, ax = plt.subplots(3, figsize=(8,7), sharex=True,\n",
        "                        gridspec_kw = {'height_ratios': [1, 1, 0.4]})\n",
        "\n",
        "  # Plot input spikes\n",
        "  splt.raster(spk_in[:,0], ax[0], s=0.03, c=\"black\")\n",
        "  ax[0].set_ylabel(\"Input Spikes\")\n",
        "  ax[0].set_title(title)\n",
        "\n",
        "  # Plot hidden layer spikes\n",
        "  splt.raster(spk1_rec.reshape(num_steps, -1), ax[1], s = 0.05, c=\"black\")\n",
        "  ax[1].set_ylabel(\"Hidden Layer\")\n",
        "\n",
        "  # Plot output spikes\n",
        "  splt.raster(spk2_rec.reshape(num_steps, -1), ax[2], c=\"black\", marker=\"|\")\n",
        "  ax[2].set_ylabel(\"Output Spikes\")\n",
        "  ax[2].set_ylim([0, 10])\n",
        "\n",
        "  plt.show()"
      ]
    },
    {
      "cell_type": "markdown",
      "metadata": {},
      "source": [
        "The plotting functions `plot_cur_mem_spk` and `plot_snn_spikes` are defined to visualize the input current, membrane potential, and spike trains of the neurons in our network."
      ]
    },
    {
      "cell_type": "code",
      "execution_count": null,
      "metadata": {
        "id": "hu4aEh8I-H4Z"
      },
      "outputs": [],
      "source": [
        "# Layer parameters\n",
        "num_inputs = 784  # Number of input neurons (e.g., for an image of size 28x28)\n",
        "num_hidden = 1000 # Number of neurons in the hidden layer\n",
        "num_outputs = 10  # Number of output neurons (e.g., for 10 classes)\n",
        "beta = 0.99       # Decay rate for the leaky integrate-and-fire neurons\n",
        "\n",
        "# Initialize layers\n",
        "fc1 = nn.Linear(num_inputs, num_hidden)  # First fully connected layer\n",
        "lif1 = snn.Leaky(beta=beta)              # LIF neuron layer after fc1\n",
        "fc2 = nn.Linear(num_hidden, num_outputs) # Second fully connected layer\n",
        "lif2 = snn.Leaky(beta=beta)              # LIF neuron layer after fc2"
      ]
    },
    {
      "cell_type": "markdown",
      "metadata": {},
      "source": [
        "Here, we define the network parameters and initialize the layers. The network consists of an input layer, a hidden layer, and an output layer. The LIF neuron model is used for the hidden and output layers."
      ]
    },
    {
      "cell_type": "code",
      "execution_count": null,
      "metadata": {
        "id": "RChZjgMdzyFZ"
      },
      "outputs": [],
      "source": [
        "# Initialize hidden states\n",
        "mem1 = lif1.init_leaky() # Initial membrane potential for the hidden layer\n",
        "mem2 = lif2.init_leaky() # Initial membrane potential for the output layer\n",
        "\n",
        "# Record outputs\n",
        "mem2_rec = [] # Record of membrane potentials for the output layer\n",
        "spk1_rec = [] # Record of spikes for the hidden layer\n",
        "spk2_rec = [] # Record of spikes for the output layer"
      ]
    },
    {
      "cell_type": "markdown",
      "metadata": {},
      "source": [
        "We initialize the hidden states (membrane potentials) for the LIF neurons and create lists to record the membrane potentials and spikes during the simulation."
      ]
    },
    {
      "cell_type": "code",
      "execution_count": null,
      "metadata": {
        "id": "y8NHscQrH_cI"
      },
      "outputs": [],
      "source": [
        "spk_in = spikegen.rate_conv(torch.rand((200, 784))).unsqueeze(1) # Generate random input spikes\n",
        "print(f\"Dimensions of spk_in: {spk_in.size()}\")"
      ]
    },
    {
      "cell_type": "markdown",
      "metadata": {},
      "source": [
        "We generate random input spikes using `spikegen.rate_conv` for 200 time steps and 784 input neurons."
      ]
    },
    {
      "cell_type": "code",
      "execution_count": null,
      "metadata": {
        "id": "JR6XAuL4I-NH"
      },
      "outputs": [],
      "source": [
        "# Network simulation\n",
        "for step in range(num_steps):\n",
        "    cur1 = fc1(spk_in[step]) # Calculate post-synaptic current for the hidden layer\n",
        "    spk1, mem1 = lif1(cur1, mem1) # Update hidden layer's spikes and membrane potentials\n",
        "    cur2 = fc2(spk1) # Calculate post-synaptic current for the output layer\n",
        "    spk2, mem2 = lif2(cur2, mem2) # Update output layer's spikes and membrane potentials\n",
        "\n",
        "    mem2_rec.append(mem2) # Record membrane potential for output layer\n",
        "    spk1_rec.append(spk1) # Record spikes for hidden layer\n",
        "    spk2_rec.append(spk2) # Record spikes for output layer\n",
        "\n",
        "# Convert lists to tensors\n",
        "mem2_rec = torch.stack(mem2_rec)\n",
        "spk1_rec = torch.stack(spk1_rec)\n",
        "spk2_rec = torch.stack(spk2_rec)\n",
        "\n",
        "plot_snn_spikes(spk_in, spk1_rec, spk2_rec, \"Fully Connected Spiking Neural Network\")"
      ]
    },
    {
      "cell_type": "markdown",
      "metadata": {},
      "source": [
        "We simulate the network for a given number of time steps (`num_steps`). At each time step, we compute the post-synaptic current, update the spikes and membrane potentials, and record the results."
      ]
    },
    {
      "cell_type": "code",
      "execution_count": null,
      "metadata": {
        "id": "FXhPeou8NxS0"
      },
      "outputs": [],
      "source": [
        "from IPython.display import HTML\n",
        "\n",
        "fig, ax = plt.subplots(facecolor='w', figsize=(12, 7))\n",
        "labels=['0', '1', '2', '3', '4', '5', '6', '7', '8','9']\n",
        "spk2_rec = spk2_rec.squeeze(1).detach().cpu()\n",
        "\n",
        "# Plot spike count histogram\n",
        "anim = splt.spike_count(spk2_rec, fig, ax, labels=labels, animate=True)\n",
        "HTML(anim.to_html5_video())\n",
        "# anim.save(\"spike_bar.mp4\")"
      ]
    },
    {
      "cell_type": "markdown",
      "metadata": {},
      "source": [
        "We use `spikeplot` to visualize the spike count histogram of the output layer neurons. This provides insight into the firing behavior of each output neuron over time."
      ]
    },
    {
      "cell_type": "markdown",
      "metadata": {
        "id": "ESmXh1MkN0Cl"
      },
      "source": [
        "`spikeplot.traces` lets you visualize the membrane potential traces. We will plot 9 out of 10 output neurons.\n",
        "Compare it to the animation and raster plot above to see if you can match the traces to the neuron."
      ]
    },
    {
      "cell_type": "code",
      "execution_count": null,
      "metadata": {
        "id": "549a-aMvOnWc"
      },
      "outputs": [],
      "source": [
        "# Plot membrane potential traces\n",
        "splt.traces(mem2_rec.squeeze(1), spk=spk2_rec.squeeze(1))\n",
        "fig = plt.gcf()\n",
        "fig.set_size_inches(8, 6)"
      ]
    }
  ],
  "metadata": {
    "colab": {
      "provenance": []
    },
    "kernelspec": {
      "display_name": "Python 3.7.0 ('snnenv': venv)",
      "language": "python",
      "name": "python3"
    },
    "language_info": {
      "codemirror_mode": {
        "name": "ipython",
        "version": 3
      },
      "file_extension": ".py",
      "mimetype": "text/x-python",
      "name": "python",
      "nbconvert_exporter": "python",
      "pygments_lexer": "ipython3",
      "version": "3.7.0"
    },
    "vscode": {
      "interpreter": {
        "hash": "cda51994da7a97c2e92f9e8832b8fe412980cf29d1c6c8cbe827a5abbabd9c57"
      }
    }
  },
  "nbformat": 4,
  "nbformat_minor": 0
}
