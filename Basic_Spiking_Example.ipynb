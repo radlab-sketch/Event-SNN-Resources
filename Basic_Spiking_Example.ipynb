{
  "cells": [
    {
      "cell_type": "code",
      "execution_count": 1,
      "metadata": {},
      "outputs": [],
      "source": [
        "import matplotlib.pyplot as plt\n",
        "import torch\n",
        "import norse\n",
        "import numpy as np"
      ]
    },
    {
      "cell_type": "code",
      "execution_count": 2,
      "metadata": {},
      "outputs": [
        {
          "data": {
            "text/plain": [
              "LI()"
            ]
          },
          "execution_count": 2,
          "metadata": {},
          "output_type": "execute_result"
        }
      ],
      "source": [
        "# Set up the leaky integrate-and-fire (LI) neuron model using the Norse library\n",
        "activation = norse.torch.LI()\n",
        "activation"
      ]
    },
    {
      "cell_type": "code",
      "execution_count": 3,
      "metadata": {},
      "outputs": [],
      "source": [
        "# Generate input data with a sequence of 1000 time steps and specific spikes\n",
        "data = torch.zeros(1000, 1)\n",
        "data[20] = 1.0\n",
        "data[100] = 1.0\n",
        "\n",
        "# Run the LI neuron model with the input data and capture the resulting voltage over time\n",
        "voltage_trace, _ = activation(data)"
      ]
    },
    {
      "cell_type": "code",
      "execution_count": null,
      "metadata": {},
      "outputs": [],
      "source": [
        "# Define fixed values for tau_mem and tau_syn\n",
        "tau_mem = 105  # Middle value of 10 to 200 range\n",
        "tau_syn = 105  # Middle value of 10 to 200 range\n",
        "t0 = 500  # Middle value of 0 to 1000 range\n",
        "t1 = 700  # Middle value of 0 to 1000 range\n",
        "\n",
        "num_neurons = 1\n",
        "tau_mem_inv = torch.tensor([1/(tau_mem * 0.001)])\n",
        "tau_syn_inv = torch.tensor([1/(tau_syn * 0.001)])\n",
        "\n",
        "# Create a time-series input with spikes at specified times\n",
        "data = torch.zeros(1000, num_neurons)\n",
        "data[t0] = 1.0\n",
        "data[t1] = 1.0\n",
        "\n",
        "# Simulate the neuron model with fixed parameters and capture the voltage trace\n",
        "voltage_trace, _ = norse.torch.LI(p=norse.torch.LIParameters(tau_mem_inv=tau_mem_inv, tau_syn_inv=tau_syn_inv))(data)\n"
      ]
    },
    {
      "cell_type": "markdown",
      "metadata": {},
      "source": [
        "Increasing the membrane time constant (τ_mem) slows down the decay of the membrane potential, resulting in a lower peak value. The synaptic time constant (τ_syn) affects the exponential decay rate of the synaptic input."
      ]
    },
    {
      "cell_type": "code",
      "execution_count": null,
      "metadata": {},
      "outputs": [],
      "source": [
        "# Function to simulate and record the voltage of a neuron model\n",
        "def integrate_and_record_voltages(cell):\n",
        "    def integrate(input_spike_train):\n",
        "        T = input_spike_train.shape[0]\n",
        "        s = None\n",
        "        spikes = []\n",
        "        voltage_trace = []\n",
        "\n",
        "        # Process each time step to simulate neuron activity and capture spikes and voltages\n",
        "        for ts in range(T):\n",
        "            z, s = cell(input_spike_train[ts], s)\n",
        "            spikes.append(z)\n",
        "            voltage_trace.append(s.v)\n",
        "\n",
        "        return torch.stack(spikes), torch.stack(voltage_trace)\n",
        "    return integrate"
      ]
    },
    {
      "cell_type": "code",
      "execution_count": null,
      "metadata": {},
      "outputs": [],
      "source": [
        "# Define fixed values for tau_mem, tau_syn, and v_th\n",
        "tau_mem = 105  # Middle value of 10 to 200 range\n",
        "tau_syn = 105  # Middle value of 10 to 200 range\n",
        "v_th = 1.05    # Middle value of 0.1 to 2.0 range\n",
        "t0 = 500       # Middle value of 0 to 1000 range\n",
        "t1 = 700       # Middle value of 0 to 1000 range\n",
        "\n",
        "num_neurons = 1\n",
        "tau_syn_inv = torch.tensor([1/(tau_syn * 0.001)])\n",
        "tau_mem_inv = torch.tensor([1/(tau_mem * 0.001)])\n",
        "\n",
        "# Create a signal with spikes at specified time points\n",
        "data = torch.zeros(1000, num_neurons)\n",
        "data[20] = 1.0\n",
        "data[t0] = 1.0\n",
        "data[t1] = 1.0\n",
        "\n",
        "# Configure the LIF neuron model with fixed parameters\n",
        "cell = norse.torch.LIFCell(p=norse.torch.LIFParameters(tau_mem_inv=tau_mem_inv, tau_syn_inv=tau_syn_inv, v_th=torch.as_tensor(v_th)))\n",
        "lif_integrate = integrate_and_record_voltages(cell)\n",
        "\n",
        "# Simulate the LI and LIF models and capture their voltage traces\n",
        "voltage_trace, _ = norse.torch.LI(p=norse.torch.LIParameters(tau_mem_inv=tau_mem_inv, tau_syn_inv=tau_syn_inv))(data)\n",
        "zs, lif_voltage_trace = lif_integrate(data)"
      ]
    }
  ],
  "metadata": {
    "kernelspec": {
      "display_name": "Python 3",
      "name": "python3"
    },
    "language_info": {
      "codemirror_mode": {
        "name": "ipython",
        "version": 3
      },
      "file_extension": ".py",
      "mimetype": "text/x-python",
      "name": "python",
      "nbconvert_exporter": "python",
      "pygments_lexer": "ipython3",
      "version": "3.9.4"
    }
  },
  "nbformat": 4,
  "nbformat_minor": 4
}
