{
  "nbformat": 4,
  "nbformat_minor": 0,
  "metadata": {
    "colab": {
      "provenance": []
    },
    "kernelspec": {
      "name": "python3",
      "display_name": "Python 3"
    },
    "language_info": {
      "name": "python"
    }
  },
  "cells": [
    {
      "cell_type": "code",
      "source": [
        "!pip install spikingjelly"
      ],
      "metadata": {
        "colab": {
          "base_uri": "https://localhost:8080/"
        },
        "id": "ySxQXyBvECBf",
        "outputId": "04139e73-4a95-45f5-870d-77c3d294225a"
      },
      "execution_count": 2,
      "outputs": [
        {
          "output_type": "stream",
          "name": "stdout",
          "text": [
            "Collecting spikingjelly\n",
            "  Downloading spikingjelly-0.0.0.0.14-py3-none-any.whl.metadata (15 kB)\n",
            "Requirement already satisfied: torch in /usr/local/lib/python3.10/dist-packages (from spikingjelly) (2.4.1+cu121)\n",
            "Requirement already satisfied: matplotlib in /usr/local/lib/python3.10/dist-packages (from spikingjelly) (3.7.1)\n",
            "Requirement already satisfied: numpy in /usr/local/lib/python3.10/dist-packages (from spikingjelly) (1.26.4)\n",
            "Requirement already satisfied: tqdm in /usr/local/lib/python3.10/dist-packages (from spikingjelly) (4.66.5)\n",
            "Requirement already satisfied: torchvision in /usr/local/lib/python3.10/dist-packages (from spikingjelly) (0.19.1+cu121)\n",
            "Requirement already satisfied: scipy in /usr/local/lib/python3.10/dist-packages (from spikingjelly) (1.13.1)\n",
            "Requirement already satisfied: contourpy>=1.0.1 in /usr/local/lib/python3.10/dist-packages (from matplotlib->spikingjelly) (1.3.0)\n",
            "Requirement already satisfied: cycler>=0.10 in /usr/local/lib/python3.10/dist-packages (from matplotlib->spikingjelly) (0.12.1)\n",
            "Requirement already satisfied: fonttools>=4.22.0 in /usr/local/lib/python3.10/dist-packages (from matplotlib->spikingjelly) (4.54.1)\n",
            "Requirement already satisfied: kiwisolver>=1.0.1 in /usr/local/lib/python3.10/dist-packages (from matplotlib->spikingjelly) (1.4.7)\n",
            "Requirement already satisfied: packaging>=20.0 in /usr/local/lib/python3.10/dist-packages (from matplotlib->spikingjelly) (24.1)\n",
            "Requirement already satisfied: pillow>=6.2.0 in /usr/local/lib/python3.10/dist-packages (from matplotlib->spikingjelly) (10.4.0)\n",
            "Requirement already satisfied: pyparsing>=2.3.1 in /usr/local/lib/python3.10/dist-packages (from matplotlib->spikingjelly) (3.1.4)\n",
            "Requirement already satisfied: python-dateutil>=2.7 in /usr/local/lib/python3.10/dist-packages (from matplotlib->spikingjelly) (2.8.2)\n",
            "Requirement already satisfied: filelock in /usr/local/lib/python3.10/dist-packages (from torch->spikingjelly) (3.16.1)\n",
            "Requirement already satisfied: typing-extensions>=4.8.0 in /usr/local/lib/python3.10/dist-packages (from torch->spikingjelly) (4.12.2)\n",
            "Requirement already satisfied: sympy in /usr/local/lib/python3.10/dist-packages (from torch->spikingjelly) (1.13.3)\n",
            "Requirement already satisfied: networkx in /usr/local/lib/python3.10/dist-packages (from torch->spikingjelly) (3.3)\n",
            "Requirement already satisfied: jinja2 in /usr/local/lib/python3.10/dist-packages (from torch->spikingjelly) (3.1.4)\n",
            "Requirement already satisfied: fsspec in /usr/local/lib/python3.10/dist-packages (from torch->spikingjelly) (2024.6.1)\n",
            "Requirement already satisfied: six>=1.5 in /usr/local/lib/python3.10/dist-packages (from python-dateutil>=2.7->matplotlib->spikingjelly) (1.16.0)\n",
            "Requirement already satisfied: MarkupSafe>=2.0 in /usr/local/lib/python3.10/dist-packages (from jinja2->torch->spikingjelly) (2.1.5)\n",
            "Requirement already satisfied: mpmath<1.4,>=1.1.0 in /usr/local/lib/python3.10/dist-packages (from sympy->torch->spikingjelly) (1.3.0)\n",
            "Downloading spikingjelly-0.0.0.0.14-py3-none-any.whl (437 kB)\n",
            "\u001b[2K   \u001b[90m━━━━━━━━━━━━━━━━━━━━━━━━━━━━━━━━━━━━━━━━\u001b[0m \u001b[32m437.6/437.6 kB\u001b[0m \u001b[31m23.7 MB/s\u001b[0m eta \u001b[36m0:00:00\u001b[0m\n",
            "\u001b[?25hInstalling collected packages: spikingjelly\n",
            "Successfully installed spikingjelly-0.0.0.0.14\n"
          ]
        }
      ]
    },
    {
      "cell_type": "code",
      "execution_count": 3,
      "metadata": {
        "colab": {
          "base_uri": "https://localhost:8080/",
          "height": 1000
        },
        "id": "yMMwHP8UDBwi",
        "outputId": "48f54dc4-5031-4e02-b33a-0a753c462372"
      },
      "outputs": [
        {
          "metadata": {
            "tags": null
          },
          "name": "stdout",
          "output_type": "stream",
          "text": [
            "Downloading http://yann.lecun.com/exdb/mnist/train-images-idx3-ubyte.gz\n",
            "Failed to download (trying next):\n",
            "HTTP Error 403: Forbidden\n",
            "\n",
            "Downloading https://ossci-datasets.s3.amazonaws.com/mnist/train-images-idx3-ubyte.gz\n",
            "Downloading https://ossci-datasets.s3.amazonaws.com/mnist/train-images-idx3-ubyte.gz to ./data/MNIST/raw/train-images-idx3-ubyte.gz\n"
          ]
        },
        {
          "metadata": {
            "tags": null
          },
          "name": "stderr",
          "output_type": "stream",
          "text": [
            "100%|██████████| 9912422/9912422 [00:00<00:00, 127405451.13it/s]\n"
          ]
        },
        {
          "metadata": {
            "tags": null
          },
          "name": "stdout",
          "output_type": "stream",
          "text": [
            "Extracting ./data/MNIST/raw/train-images-idx3-ubyte.gz to ./data/MNIST/raw\n",
            "\n",
            "Downloading http://yann.lecun.com/exdb/mnist/train-labels-idx1-ubyte.gz\n",
            "Failed to download (trying next):\n",
            "HTTP Error 403: Forbidden\n",
            "\n",
            "Downloading https://ossci-datasets.s3.amazonaws.com/mnist/train-labels-idx1-ubyte.gz\n",
            "Downloading https://ossci-datasets.s3.amazonaws.com/mnist/train-labels-idx1-ubyte.gz to ./data/MNIST/raw/train-labels-idx1-ubyte.gz\n"
          ]
        },
        {
          "metadata": {
            "tags": null
          },
          "name": "stderr",
          "output_type": "stream",
          "text": [
            "100%|██████████| 28881/28881 [00:00<00:00, 6916901.38it/s]\n"
          ]
        },
        {
          "metadata": {
            "tags": null
          },
          "name": "stdout",
          "output_type": "stream",
          "text": [
            "Extracting ./data/MNIST/raw/train-labels-idx1-ubyte.gz to ./data/MNIST/raw\n",
            "\n",
            "Downloading http://yann.lecun.com/exdb/mnist/t10k-images-idx3-ubyte.gz\n",
            "Failed to download (trying next):\n",
            "HTTP Error 403: Forbidden\n",
            "\n",
            "Downloading https://ossci-datasets.s3.amazonaws.com/mnist/t10k-images-idx3-ubyte.gz\n",
            "Downloading https://ossci-datasets.s3.amazonaws.com/mnist/t10k-images-idx3-ubyte.gz to ./data/MNIST/raw/t10k-images-idx3-ubyte.gz\n"
          ]
        },
        {
          "metadata": {
            "tags": null
          },
          "name": "stderr",
          "output_type": "stream",
          "text": [
            "100%|██████████| 1648877/1648877 [00:00<00:00, 71202423.52it/s]\n"
          ]
        },
        {
          "metadata": {
            "tags": null
          },
          "name": "stdout",
          "output_type": "stream",
          "text": [
            "Extracting ./data/MNIST/raw/t10k-images-idx3-ubyte.gz to ./data/MNIST/raw\n",
            "\n",
            "Downloading http://yann.lecun.com/exdb/mnist/t10k-labels-idx1-ubyte.gz\n",
            "Failed to download (trying next):\n",
            "HTTP Error 403: Forbidden\n",
            "\n",
            "Downloading https://ossci-datasets.s3.amazonaws.com/mnist/t10k-labels-idx1-ubyte.gz\n",
            "Downloading https://ossci-datasets.s3.amazonaws.com/mnist/t10k-labels-idx1-ubyte.gz to ./data/MNIST/raw/t10k-labels-idx1-ubyte.gz\n"
          ]
        },
        {
          "metadata": {
            "tags": null
          },
          "name": "stderr",
          "output_type": "stream",
          "text": [
            "100%|██████████| 4542/4542 [00:00<00:00, 1306083.15it/s]"
          ]
        },
        {
          "metadata": {
            "tags": null
          },
          "name": "stdout",
          "output_type": "stream",
          "text": [
            "Extracting ./data/MNIST/raw/t10k-labels-idx1-ubyte.gz to ./data/MNIST/raw\n",
            "\n"
          ]
        },
        {
          "metadata": {
            "tags": null
          },
          "name": "stderr",
          "output_type": "stream",
          "text": [
            "\n"
          ]
        },
        {
          "output_type": "stream",
          "name": "stdout",
          "text": [
            "Epoch 1, Batch 1 - STDP Updates Applied\n",
            "Epoch 1, Batch 101 - STDP Updates Applied\n",
            "Epoch 1, Batch 201 - STDP Updates Applied\n",
            "Epoch 1, Batch 301 - STDP Updates Applied\n",
            "Epoch 1, Batch 401 - STDP Updates Applied\n",
            "Epoch 1, Batch 501 - STDP Updates Applied\n",
            "Epoch 1, Batch 601 - STDP Updates Applied\n",
            "Epoch 1, Batch 701 - STDP Updates Applied\n",
            "Epoch 1, Batch 801 - STDP Updates Applied\n",
            "Epoch 1, Batch 901 - STDP Updates Applied\n",
            "Epoch 2, Batch 1 - STDP Updates Applied\n",
            "Epoch 2, Batch 101 - STDP Updates Applied\n"
          ]
        },
        {
          "output_type": "error",
          "ename": "KeyboardInterrupt",
          "evalue": "",
          "traceback": [
            "\u001b[0;31m---------------------------------------------------------------------------\u001b[0m",
            "\u001b[0;31mKeyboardInterrupt\u001b[0m                         Traceback (most recent call last)",
            "\u001b[0;32m<ipython-input-3-1af1653b2fe5>\u001b[0m in \u001b[0;36m<cell line: 73>\u001b[0;34m()\u001b[0m\n\u001b[1;32m     91\u001b[0m             \u001b[0;31m# Use STDP learners to update weights based on spikes\u001b[0m\u001b[0;34m\u001b[0m\u001b[0;34m\u001b[0m\u001b[0m\n\u001b[1;32m     92\u001b[0m             \u001b[0;32mfor\u001b[0m \u001b[0mstdp_learner\u001b[0m \u001b[0;32min\u001b[0m \u001b[0mstdp_learners\u001b[0m\u001b[0;34m:\u001b[0m\u001b[0;34m\u001b[0m\u001b[0;34m\u001b[0m\u001b[0m\n\u001b[0;32m---> 93\u001b[0;31m                 \u001b[0mstdp_learner\u001b[0m\u001b[0;34m.\u001b[0m\u001b[0mstep\u001b[0m\u001b[0;34m(\u001b[0m\u001b[0mon_grad\u001b[0m\u001b[0;34m=\u001b[0m\u001b[0;32mTrue\u001b[0m\u001b[0;34m)\u001b[0m  \u001b[0;31m# Adds `- delta_w * scale` to grad\u001b[0m\u001b[0;34m\u001b[0m\u001b[0;34m\u001b[0m\u001b[0m\n\u001b[0m\u001b[1;32m     94\u001b[0m \u001b[0;34m\u001b[0m\u001b[0m\n\u001b[1;32m     95\u001b[0m         \u001b[0;31m# Apply the weight update\u001b[0m\u001b[0;34m\u001b[0m\u001b[0;34m\u001b[0m\u001b[0m\n",
            "\u001b[0;32m/usr/local/lib/python3.10/dist-packages/spikingjelly/activation_based/learning.py\u001b[0m in \u001b[0;36mstep\u001b[0;34m(self, on_grad, scale)\u001b[0m\n\u001b[1;32m    297\u001b[0m             \u001b[0mout_spike\u001b[0m \u001b[0;34m=\u001b[0m \u001b[0mself\u001b[0m\u001b[0;34m.\u001b[0m\u001b[0mout_spike_monitor\u001b[0m\u001b[0;34m.\u001b[0m\u001b[0mrecords\u001b[0m\u001b[0;34m.\u001b[0m\u001b[0mpop\u001b[0m\u001b[0;34m(\u001b[0m\u001b[0;36m0\u001b[0m\u001b[0;34m)\u001b[0m   \u001b[0;31m# [batch_size, N_out]\u001b[0m\u001b[0;34m\u001b[0m\u001b[0;34m\u001b[0m\u001b[0m\n\u001b[1;32m    298\u001b[0m \u001b[0;34m\u001b[0m\u001b[0m\n\u001b[0;32m--> 299\u001b[0;31m             self.trace_pre, self.trace_post, dw = stdp_f(\n\u001b[0m\u001b[1;32m    300\u001b[0m                 \u001b[0mself\u001b[0m\u001b[0;34m.\u001b[0m\u001b[0msynapse\u001b[0m\u001b[0;34m,\u001b[0m \u001b[0min_spike\u001b[0m\u001b[0;34m,\u001b[0m \u001b[0mout_spike\u001b[0m\u001b[0;34m,\u001b[0m\u001b[0;34m\u001b[0m\u001b[0;34m\u001b[0m\u001b[0m\n\u001b[1;32m    301\u001b[0m                 \u001b[0mself\u001b[0m\u001b[0;34m.\u001b[0m\u001b[0mtrace_pre\u001b[0m\u001b[0;34m,\u001b[0m \u001b[0mself\u001b[0m\u001b[0;34m.\u001b[0m\u001b[0mtrace_post\u001b[0m\u001b[0;34m,\u001b[0m\u001b[0;34m\u001b[0m\u001b[0;34m\u001b[0m\u001b[0m\n",
            "\u001b[0;32m/usr/local/lib/python3.10/dist-packages/spikingjelly/activation_based/learning.py\u001b[0m in \u001b[0;36mstdp_multi_step\u001b[0;34m(layer, in_spike, out_spike, trace_pre, trace_post, tau_pre, tau_post, f_pre, f_post)\u001b[0m\n\u001b[1;32m    230\u001b[0m \u001b[0;34m\u001b[0m\u001b[0m\n\u001b[1;32m    231\u001b[0m     \u001b[0;32mfor\u001b[0m \u001b[0mt\u001b[0m \u001b[0;32min\u001b[0m \u001b[0mrange\u001b[0m\u001b[0;34m(\u001b[0m\u001b[0mT\u001b[0m\u001b[0;34m)\u001b[0m\u001b[0;34m:\u001b[0m\u001b[0;34m\u001b[0m\u001b[0;34m\u001b[0m\u001b[0m\n\u001b[0;32m--> 232\u001b[0;31m         trace_pre, trace_post, dw = stdp_single_step(\n\u001b[0m\u001b[1;32m    233\u001b[0m             \u001b[0mlayer\u001b[0m\u001b[0;34m,\u001b[0m \u001b[0min_spike\u001b[0m\u001b[0;34m[\u001b[0m\u001b[0mt\u001b[0m\u001b[0;34m]\u001b[0m\u001b[0;34m,\u001b[0m \u001b[0mout_spike\u001b[0m\u001b[0;34m[\u001b[0m\u001b[0mt\u001b[0m\u001b[0;34m]\u001b[0m\u001b[0;34m,\u001b[0m \u001b[0mtrace_pre\u001b[0m\u001b[0;34m,\u001b[0m \u001b[0mtrace_post\u001b[0m\u001b[0;34m,\u001b[0m\u001b[0;34m\u001b[0m\u001b[0;34m\u001b[0m\u001b[0m\n\u001b[1;32m    234\u001b[0m             \u001b[0mtau_pre\u001b[0m\u001b[0;34m,\u001b[0m \u001b[0mtau_post\u001b[0m\u001b[0;34m,\u001b[0m \u001b[0mf_pre\u001b[0m\u001b[0;34m,\u001b[0m \u001b[0mf_post\u001b[0m\u001b[0;34m\u001b[0m\u001b[0;34m\u001b[0m\u001b[0m\n",
            "\u001b[0;32m/usr/local/lib/python3.10/dist-packages/spikingjelly/activation_based/learning.py\u001b[0m in \u001b[0;36mstdp_conv2d_single_step\u001b[0;34m(conv, in_spike, out_spike, trace_pre, trace_post, tau_pre, tau_post, f_pre, f_post)\u001b[0m\n\u001b[1;32m    137\u001b[0m             delta_w_pre = - (f_pre(weight) *\n\u001b[1;32m    138\u001b[0m                                         \u001b[0;34m(\u001b[0m\u001b[0mtr_post\u001b[0m\u001b[0;34m.\u001b[0m\u001b[0munsqueeze\u001b[0m\u001b[0;34m(\u001b[0m\u001b[0;36m2\u001b[0m\u001b[0;34m)\u001b[0m \u001b[0;34m*\u001b[0m \u001b[0mpre_spike\u001b[0m\u001b[0;34m.\u001b[0m\u001b[0munsqueeze\u001b[0m\u001b[0;34m(\u001b[0m\u001b[0;36m1\u001b[0m\u001b[0;34m)\u001b[0m\u001b[0;34m)\u001b[0m\u001b[0;34m\u001b[0m\u001b[0;34m\u001b[0m\u001b[0m\n\u001b[0;32m--> 139\u001b[0;31m                             .permute([1, 2, 0, 3, 4]).sum(dim = [2, 3, 4]))\n\u001b[0m\u001b[1;32m    140\u001b[0m             \u001b[0mdelta_w_post\u001b[0m \u001b[0;34m=\u001b[0m \u001b[0mf_post\u001b[0m\u001b[0;34m(\u001b[0m\u001b[0mweight\u001b[0m\u001b[0;34m)\u001b[0m \u001b[0;34m*\u001b[0m\u001b[0;31m \u001b[0m\u001b[0;31m\\\u001b[0m\u001b[0;34m\u001b[0m\u001b[0;34m\u001b[0m\u001b[0m\n\u001b[1;32m    141\u001b[0m                            \u001b[0;34m(\u001b[0m\u001b[0mtr_pre\u001b[0m\u001b[0;34m.\u001b[0m\u001b[0munsqueeze\u001b[0m\u001b[0;34m(\u001b[0m\u001b[0;36m1\u001b[0m\u001b[0;34m)\u001b[0m \u001b[0;34m*\u001b[0m \u001b[0mpost_spike\u001b[0m\u001b[0;34m.\u001b[0m\u001b[0munsqueeze\u001b[0m\u001b[0;34m(\u001b[0m\u001b[0;36m2\u001b[0m\u001b[0;34m)\u001b[0m\u001b[0;34m)\u001b[0m\u001b[0;31m\\\u001b[0m\u001b[0;34m\u001b[0m\u001b[0;34m\u001b[0m\u001b[0m\n",
            "\u001b[0;31mKeyboardInterrupt\u001b[0m: "
          ]
        }
      ],
      "source": [
        "import torch\n",
        "import torch.nn as nn\n",
        "from spikingjelly.activation_based import learning, layer, neuron, functional\n",
        "from spikingjelly.clock_driven import encoding\n",
        "from torchvision import datasets, transforms\n",
        "from torch.utils.data import DataLoader\n",
        "\n",
        "# Define Hyperparameters\n",
        "T = 8  # Time steps\n",
        "N = 64  # Batch size\n",
        "C = 1  # Number of input channels (grayscale for MNIST)\n",
        "H = 28  # Height of the input image\n",
        "W = 28  # Width of the input image\n",
        "lr_stdp = 0.01  # Learning rate for STDP\n",
        "tau_pre = 2.  # Time constant for pre-synaptic traces\n",
        "tau_post = 100.  # Time constant for post-synaptic traces\n",
        "step_mode = 'm'  # Multi-step mode for SNN processing\n",
        "epochs = 5  # Number of training epochs\n",
        "\n",
        "# Initialize Poisson Encoder\n",
        "poisson_encoder = encoding.PoissonEncoder()\n",
        "\n",
        "# Load the MNIST Dataset\n",
        "transform = transforms.Compose([\n",
        "    transforms.ToTensor(),  # Convert to tensor\n",
        "])\n",
        "\n",
        "train_dataset = datasets.MNIST(root='./data', train=True, transform=transform, download=True)\n",
        "train_loader = DataLoader(train_dataset, batch_size=N, shuffle=True)\n",
        "\n",
        "# Define the SNN Network\n",
        "def f_weight(x):\n",
        "    return torch.clamp(x, -1, 1.)\n",
        "\n",
        "# Define a simple SNN with two convolutional layers\n",
        "net = nn.Sequential(\n",
        "    layer.Conv2d(C, 16, kernel_size=3, stride=1, padding=1, bias=False),\n",
        "    neuron.IFNode(),\n",
        "    layer.MaxPool2d(2, 2),\n",
        "    layer.Conv2d(16, 32, kernel_size=3, stride=1, padding=1, bias=False),\n",
        "    neuron.IFNode(),\n",
        "    layer.MaxPool2d(2, 2),\n",
        "    layer.Flatten(),\n",
        "    layer.Linear(32 * 7 * 7, 10, bias=False),  # Final layer for 10 classes\n",
        "    neuron.IFNode(),\n",
        ")\n",
        "\n",
        "functional.set_step_mode(net, step_mode)\n",
        "\n",
        "# Define the STDP Learners\n",
        "instances_stdp = (layer.Conv2d, layer.Linear)\n",
        "\n",
        "# Create an STDP learner for each layer in the SNN\n",
        "stdp_learners = []\n",
        "\n",
        "for i in range(len(net)):\n",
        "    if isinstance(net[i], instances_stdp):\n",
        "        stdp_learners.append(\n",
        "            learning.STDPLearner(step_mode=step_mode, synapse=net[i], sn=net[i + 1], tau_pre=tau_pre, tau_post=tau_post,\n",
        "                                f_pre=f_weight, f_post=f_weight)\n",
        "        )\n",
        "\n",
        "# Create Optimizer for STDP Updates\n",
        "params_stdp = []\n",
        "for m in net.modules():\n",
        "    if isinstance(m, instances_stdp):\n",
        "        params_stdp += list(m.parameters())\n",
        "\n",
        "# Define the optimizer to apply STDP updates\n",
        "optimizer_stdp = torch.optim.SGD(params_stdp, lr=lr_stdp, momentum=0.)\n",
        "\n",
        "# Training Loop\n",
        "for epoch in range(epochs):\n",
        "    for batch_idx, (data, target) in enumerate(train_loader):\n",
        "        # Convert data to [N, C, H, W] format\n",
        "        data = data.squeeze(1)  # Shape: [N, H, W]\n",
        "\n",
        "        # Encode the data using Poisson Encoder over `T` time steps\n",
        "        x_seq = torch.stack([poisson_encoder(data) for _ in range(T)], dim=0)  # Shape: [T, N, H, W]\n",
        "\n",
        "        # Add channel dimension\n",
        "        x_seq = x_seq.unsqueeze(2)  # Shape: [T, N, 1, H, W]\n",
        "\n",
        "        # Zero gradients\n",
        "        optimizer_stdp.zero_grad()\n",
        "\n",
        "        # Forward pass through the network\n",
        "        out_spike_seq = []\n",
        "        for t in range(T):\n",
        "            out_spike_seq.append(net(x_seq[t:t+1]))  # Keep `T` dimension as `[1, N, C, H, W]`\n",
        "            # Use STDP learners to update weights based on spikes\n",
        "            for stdp_learner in stdp_learners:\n",
        "                stdp_learner.step(on_grad=True)  # Adds `- delta_w * scale` to grad\n",
        "\n",
        "        # Apply the weight update\n",
        "        optimizer_stdp.step()\n",
        "\n",
        "        # Reset the network and learners to clear internal states\n",
        "        functional.reset_net(net)\n",
        "        for stdp_learner in stdp_learners:\n",
        "            stdp_learner.reset()\n",
        "\n",
        "        if batch_idx % 100 == 0:\n",
        "            print(f'Epoch {epoch + 1}, Batch {batch_idx + 1} - STDP Updates Applied')\n"
      ]
    }
  ]
}